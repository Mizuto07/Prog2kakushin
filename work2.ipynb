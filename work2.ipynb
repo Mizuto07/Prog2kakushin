{
  "nbformat": 4,
  "nbformat_minor": 0,
  "metadata": {
    "colab": {
      "provenance": [],
      "authorship_tag": "ABX9TyMdcaWZa5YNwXLctWsy7Y9o",
      "include_colab_link": true
    },
    "kernelspec": {
      "name": "python3",
      "display_name": "Python 3"
    },
    "language_info": {
      "name": "python"
    }
  },
  "cells": [
    {
      "cell_type": "markdown",
      "metadata": {
        "id": "view-in-github",
        "colab_type": "text"
      },
      "source": [
        "<a href=\"https://colab.research.google.com/github/Mizuto07/Prog2kakushin/blob/main/work2.ipynb\" target=\"_parent\"><img src=\"https://colab.research.google.com/assets/colab-badge.svg\" alt=\"Open In Colab\"/></a>"
      ]
    },
    {
      "cell_type": "markdown",
      "source": [
        "## Numpy  \n",
        "\n",
        "  たくさんの画像をグレースケール化して、その0から255までの数値をnumpyの配列にして、距離を計算し、似ている画像を分類できるプログラムを作る"
      ],
      "metadata": {
        "id": "bo6VlNrFituH"
      }
    },
    {
      "cell_type": "code",
      "execution_count": null,
      "metadata": {
        "id": "jPGwkMsl_8WZ"
      },
      "outputs": [],
      "source": []
    }
  ]
}