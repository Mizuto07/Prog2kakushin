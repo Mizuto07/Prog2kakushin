{
  "nbformat": 4,
  "nbformat_minor": 0,
  "metadata": {
    "colab": {
      "provenance": [],
      "authorship_tag": "ABX9TyMBWISaZrL3Q/4SrqvAtGjv",
      "include_colab_link": true
    },
    "kernelspec": {
      "name": "python3",
      "display_name": "Python 3"
    },
    "language_info": {
      "name": "python"
    }
  },
  "cells": [
    {
      "cell_type": "markdown",
      "metadata": {
        "id": "view-in-github",
        "colab_type": "text"
      },
      "source": [
        "<a href=\"https://colab.research.google.com/github/Mizuto07/Prog2kakushin/blob/main/work1.ipynb\" target=\"_parent\"><img src=\"https://colab.research.google.com/assets/colab-badge.svg\" alt=\"Open In Colab\"/></a>"
      ]
    },
    {
      "cell_type": "markdown",
      "source": [
        "### pandas  \n",
        "  \n",
        "  クックパッドから、1か月分の朝食、昼食、夕食の献立が組めるだけの料理に関するデータをスクレイピングし表を作り、その表を基に自動で献立を作成してくれるプログラムを作ります  \n",
        "  抽出するデータは料理名、料理の写真、必要な食材、その料理の作り方が書かれているページのURLの４つ  \n",
        "  クックパッドの利用規約によると、禁止事項として「通常に本サービスを利用する行為を超えてサーバーに負荷をかける行為もしくはそれを助長するような行為、その他本サービスの運営・提供もしくは他の利用者による本サービスの利用を妨害し、またはそれらに支障をきたす行為」と書かれているのでスクレイピングをする際は1つのデータを取るときにtime.sleep()で10秒程度間隔をあけてサーバーに負荷をかけないようにします。"
      ],
      "metadata": {
        "id": "_HQS_qEF7wL-"
      }
    },
    {
      "cell_type": "code",
      "execution_count": null,
      "metadata": {
        "id": "beCebWBo7t2V"
      },
      "outputs": [],
      "source": []
    }
  ]
}