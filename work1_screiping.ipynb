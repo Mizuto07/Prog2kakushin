{
  "nbformat": 4,
  "nbformat_minor": 0,
  "metadata": {
    "colab": {
      "provenance": [],
      "authorship_tag": "ABX9TyNG7u8s4ykXKwEAkh36spVB",
      "include_colab_link": true
    },
    "kernelspec": {
      "name": "python3",
      "display_name": "Python 3"
    },
    "language_info": {
      "name": "python"
    }
  },
  "cells": [
    {
      "cell_type": "markdown",
      "metadata": {
        "id": "view-in-github",
        "colab_type": "text"
      },
      "source": [
        "<a href=\"https://colab.research.google.com/github/Mizuto07/Prog2kakushin/blob/main/work1_screiping.ipynb\" target=\"_parent\"><img src=\"https://colab.research.google.com/assets/colab-badge.svg\" alt=\"Open In Colab\"/></a>"
      ]
    },
    {
      "cell_type": "markdown",
      "source": [
        "## pandas  \n",
        "work1で使用するfoods.xlsxファイルを作成するスクレイピングプログラムです。  \n",
        "クックパッドから料理に関する情報を抽出し、エクセルに順に書き込んでいきます。  \n",
        "試していただくために処理を短くしているので、おそらく5-10分で実行完了すると思います。  \n",
        "また、クックパッドの利用規約によると、禁止事項として「通常に本サービスを利用する行為を超えてサーバーに負荷をかける行為もしくはそれを助長するような行為、その他本サービスの運営・提供もしくは他の利用者による本サービスの利用を妨害し、またはそれらに支障をきたす行為」と書かれているのでスクレイピングをする際は1つのデータを取るときにtime.sleep()で20秒間隔をあけてサーバーに負荷をかけないようにします。そしてrobots.txtによると、料理検索結果ページの/serchに対するスクレイピングは禁止されていません。"
      ],
      "metadata": {
        "id": "aMWGjcDtzqD3"
      }
    },
    {
      "cell_type": "code",
      "source": [
        "!pip install pyqrcode"
      ],
      "metadata": {
        "colab": {
          "base_uri": "https://localhost:8080/"
        },
        "id": "VaynhxUkyytZ",
        "outputId": "38ffa8a5-e50c-4c59-d4c7-a868beda8020"
      },
      "execution_count": 1,
      "outputs": [
        {
          "output_type": "stream",
          "name": "stdout",
          "text": [
            "Looking in indexes: https://pypi.org/simple, https://us-python.pkg.dev/colab-wheels/public/simple/\n",
            "Collecting pyqrcode\n",
            "  Downloading PyQRCode-1.2.1.zip (41 kB)\n",
            "\u001b[K     |████████████████████████████████| 41 kB 423 kB/s \n",
            "\u001b[?25hBuilding wheels for collected packages: pyqrcode\n",
            "  Building wheel for pyqrcode (setup.py) ... \u001b[?25l\u001b[?25hdone\n",
            "  Created wheel for pyqrcode: filename=PyQRCode-1.2.1-py3-none-any.whl size=36245 sha256=b6172e6cd720d62f012d4d1d04dca19519ba061efcc2b9ae42313ee5f8ffe8e0\n",
            "  Stored in directory: /root/.cache/pip/wheels/e6/5e/b1/e42b38f43c94593ea57059de7e585c009c0f54e36e1a532992\n",
            "Successfully built pyqrcode\n",
            "Installing collected packages: pyqrcode\n",
            "Successfully installed pyqrcode-1.2.1\n"
          ]
        }
      ]
    },
    {
      "cell_type": "code",
      "source": [
        "import requests\n",
        "from bs4 import BeautifulSoup\n",
        "import time\n",
        "import openpyxl\n",
        "import re\n",
        "import datetime\n",
        "import pyqrcode as qr"
      ],
      "metadata": {
        "id": "1y4WH4BSy4Gp"
      },
      "execution_count": 2,
      "outputs": []
    },
    {
      "cell_type": "code",
      "execution_count": null,
      "metadata": {
        "id": "y8TyDYGsyrlJ"
      },
      "outputs": [],
      "source": [
        "waitTime = 20 # 待機時間\n",
        "#pageNum = 5 # ひとつのURLに対し何ページ読むか\n",
        "pageNum = 1\n",
        "\n",
        "wb = openpyxl.Workbook()\n",
        "wb.save('foods.xlsx')\n",
        "\n",
        "# エクセル書き込みの時に使う行番号\n",
        "R = 1\n",
        "\n",
        "url_list = []\n",
        "\n",
        "images = []\n",
        "\n",
        "# 、で分割した具材を入れるリスト\n",
        "n_ings = []\n",
        "\n",
        "\n",
        "# エクセルファイルに書き込むときの禁止文字を削除する関数 https://qiita.com/que9/items/8326133721500741bde7\n",
        "def illegal_char_remover(data):\n",
        "\n",
        "    ILLEGAL_CHARACTERS_RE = re.compile(\n",
        "\n",
        "        r'[\\000-\\010]|[\\013-\\014]|[\\016-\\037]|[\\x00-\\x1f\\x7f-\\x9f]|[\\uffff]')\n",
        "\n",
        "    '''Remove ILLEGAL CHARACTER.'''\n",
        "\n",
        "    if isinstance(data, str):\n",
        "        return ILLEGAL_CHARACTERS_RE.sub(\"\", data)\n",
        "    else:\n",
        "        return data\n",
        "\n",
        "# ファイル名に使えない記号リスト\n",
        "forbiddenSymbls = ['\\\\', '/', ':', '*', '?', '\"', '<', '>', '|', '.']\n",
        "\n",
        "\n",
        "# URL作成\n",
        "URL1 = 'https://cookpad.com/search/%E7%89%9B%E8%82%89?order=&recipe_hit=90278' # 牛肉の検索ページ\n",
        "#URL2 = 'https://cookpad.com/search/%E8%B1%9A%E8%82%89?order=&recipe_hit=313467' # 豚肉\n",
        "#URL3 = 'https://cookpad.com/search/%E9%B6%8F%E8%82%89?order=&recipe_hit=394128' # 鶏肉\n",
        "#URL4 = 'https://cookpad.com/search/%E3%82%B8%E3%83%A3%E3%82%AC%E3%82%A4%E3%83%A2?order=&recipe_hit=211675' # じゃがいも\n",
        "#URL5 = 'https://cookpad.com/search/%E4%BA%BA%E5%8F%82?order=&recipe_hit=425380' # にんじん\n",
        "#URL6 = 'https://cookpad.com/search/%E7%8E%89%E3%81%AD%E3%81%8E?order=&recipe_hit=602561' # 玉ねぎ\n",
        "#URL7 = 'https://cookpad.com/search/%E3%82%AD%E3%83%A3%E3%83%99%E3%83%84?order=&recipe_hit=186069' # キャベツ\n",
        "#URL8 = 'https://cookpad.com/search/%E3%82%B7%E3%83%BC%E3%83%81%E3%82%AD%E3%83%B3?order=&recipe_hit=98122' # シーチキン\n",
        "#tempList = [URL1, URL2, URL3, URL4, URL5, URL6, URL7, URL8]\n",
        "tempList = [URL1]\n",
        "\n",
        "\n",
        "for i in range(len(tempList)):\n",
        "    num = tempList[i].find('?')\n",
        "    num2 = tempList[i].find('recipe_hit')\n",
        "    for j in range(pageNum):\n",
        "        if j == 0:\n",
        "            url_list.append(tempList[i])\n",
        "        else:\n",
        "            url_list.append(f'{tempList[i][:num+1]}order=&page={j+1}&{tempList[i][num2:]}')\n",
        "# print(url_list)\n",
        "\n",
        "\n",
        "# スクレイピング本処理\n",
        "# url_listの中に入ったすべてのURL分繰り返す\n",
        "for s in range(len(url_list)):\n",
        "\n",
        "    titles = []\n",
        "    foodURLs = []\n",
        "    ingredients = []\n",
        "    r = requests.get(url_list[s])\n",
        "    soup = BeautifulSoup(r.content, 'html.parser')  \n",
        "\n",
        "    foodTitles = []\n",
        "    foodIngredients = []\n",
        "    # foodImage = []\n",
        "\n",
        "    # htmlから情報を取得\n",
        "    foodTitles = soup.find_all(class_=\"recipe-title\")\n",
        "    time.sleep(waitTime)\n",
        "    foodIngredients = soup.find_all(class_=\"ingredients\")\n",
        "    #time.sleep(waitTime)\n",
        "    #foodImage = soup.find_all(class_ = 'recipe-image')  \n",
        "    \n",
        "\n",
        "    for title in foodTitles: # タイトルと料理のページURLをリストに保管  \n",
        "        \n",
        "        ti = title.get_text()\n",
        "\n",
        "\n",
        "        ti = illegal_char_remover(ti)\n",
        "        for p in range(len(forbiddenSymbls)): # 料理タイトルからファイル名にできない記号を除去\n",
        "\n",
        "            if forbiddenSymbls[p] in ti:\n",
        "                ti = ti.replace(forbiddenSymbls[p], '')\n",
        "\n",
        "        titles.append(ti) # タイトル\n",
        "        time.sleep(waitTime) \n",
        "        foodURLs.append(title.get('href')) # URL\n",
        "        time.sleep(waitTime)  \n",
        "\n",
        "\n",
        "    for ing in foodIngredients: # 具材をリストに保管\n",
        "\n",
        "        n_ings = ing.get_text()\n",
        "\n",
        "        # 、で要素を分割する\n",
        "        n_ings = n_ings.split('、')\n",
        "        for ix in range(len(n_ings)):\n",
        "            n_ings[ix] = illegal_char_remover(n_ings[ix])\n",
        "            n_ings[ix] = n_ings[ix].replace('...', '')\n",
        "        ingredients.append(n_ings)\n",
        "        time.sleep(waitTime)\n",
        "        \n",
        "\n",
        "    \n",
        "    # 書き込み処理\n",
        "    for t in range(1, len(titles)+1):\n",
        "\n",
        "        wb = openpyxl.load_workbook('foods.xlsx')\n",
        "        ws = wb[\"Sheet\"]\n",
        "\n",
        "        ws.cell(row=R, column=1).value = titles[t-1] # 料理名を書き込む R行1列\n",
        "\n",
        "        for idx in range(len(ingredients[t-1])):\n",
        "            ws.cell(row=R, column=idx+2).value = ingredients[t-1][idx] # 具材を書き込む　R行idx+2(idxは0始まり)列\n",
        "\n",
        "        ws.cell(row=R, column=idx+3).value = f'https://cookpad.com{foodURLs[t-1]}' # URLを書き込む　R行idx+3(idxは0始まり)列\n",
        "\n",
        "        wb.save('foods.xlsx')\n",
        "\n",
        "        # QRコード作成\n",
        "        FILE_PNG = f'{R-1}.png'\n",
        "        code = qr.create(f'https://cookpad.com{foodURLs[t-1]}', error='L', version=3, mode='binary')\n",
        "        code.png(FILE_PNG, scale=5, module_color=[0, 0, 0, 128], background=[255, 255, 255])\n",
        "\n",
        "        R += 1\n",
        "    \n",
        "\n",
        "    dt_now = datetime.datetime.now()\n",
        "    print(f'{s+1} / {len(url_list)} 完了, {dt_now}')  \n",
        "\n",
        "\n",
        "print('書き込み完了')"
      ]
    }
  ]
}