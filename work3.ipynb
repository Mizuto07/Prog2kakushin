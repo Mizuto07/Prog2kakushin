{
  "nbformat": 4,
  "nbformat_minor": 0,
  "metadata": {
    "colab": {
      "provenance": [],
      "authorship_tag": "ABX9TyO4YEgZAS8B+KE9KjHVMaJm",
      "include_colab_link": true
    },
    "kernelspec": {
      "name": "python3",
      "display_name": "Python 3"
    },
    "language_info": {
      "name": "python"
    }
  },
  "cells": [
    {
      "cell_type": "markdown",
      "metadata": {
        "id": "view-in-github",
        "colab_type": "text"
      },
      "source": [
        "<a href=\"https://colab.research.google.com/github/Mizuto07/Prog2kakushin/blob/main/work3.ipynb\" target=\"_parent\"><img src=\"https://colab.research.google.com/assets/colab-badge.svg\" alt=\"Open In Colab\"/></a>"
      ]
    },
    {
      "cell_type": "markdown",
      "source": [
        "## opencv  \n",
        "入力された画像をアスキーアートにする\n",
        "\n"
      ],
      "metadata": {
        "id": "nd0e7acFwip6"
      }
    },
    {
      "cell_type": "markdown",
      "source": [
        "## 使い方  \n",
        "アスキーアート（すべてが文字と記号で構成されているテキストファイルなのに絵に見えるもの）に変換したい画像を左側のファイルのアイコンをクリックして表示されるスペースにドラッグアンドドロップしてください。複数でも構いません。\n",
        "  \n",
        "上側にある「ランタイム」を押し、「すべてのセルを実行」を押してください。  \n",
        "実行終了後にファイルのアイコンのスペースに「AA_」から始まるテキストファイルが現れます。それが変換後のファイルです。\n",
        "必要に応じて右クリックを押してダウンロードしてください。\n",
        "## 🎃注意  \n",
        "画像の拡張子は「.jpg」か「.jpeg」か「.png」にしてください。  \n",
        "\n",
        "\n",
        "もし読み込むことができないファイルがあった場合、実行終了後に表示されるので確認してください。  \n",
        "このページを離れるとアップロードしたファイルも、変換後のファイルも消えてしまうので注意してください。\n"
      ],
      "metadata": {
        "id": "hsJMoWhbAnOo"
      }
    },
    {
      "cell_type": "code",
      "execution_count": 4,
      "metadata": {
        "id": "syq_6zawv48k"
      },
      "outputs": [],
      "source": [
        "import cv2\n",
        "from google.colab.patches import cv2_imshow\n",
        "import glob"
      ]
    },
    {
      "cell_type": "code",
      "source": [
        "symbols = '焼肉定食漬物付やきにくていしょくつけものつき%$!*+-=:.,　' # アスキーアートに使用する記号"
      ],
      "metadata": {
        "id": "pvjZHfqrnEOf"
      },
      "execution_count": 5,
      "outputs": []
    },
    {
      "cell_type": "code",
      "source": [
        "types = ['jpg', 'jpeg', 'png']\n",
        "files = []\n",
        "errorFiles = []\n",
        "for t in types:\n",
        "  files += glob.glob('*.' + t)\n",
        "\n",
        "\n",
        "for f in files:\n",
        "  img = cv2.imread(f)\n",
        "  if img is None: # 例外処理\n",
        "    errorFiles.append(f)\n",
        "    continue\n",
        "  img = cv2.cvtColor(img, cv2.COLOR_BGR2GRAY)\n",
        "  typeNum = f.find('.')\n",
        "  \n",
        "  h = img.shape[0] # 高さ\n",
        "  w = img.shape[1] # 幅\n",
        "\n",
        "  # リサイズ\n",
        "  if h > w:\n",
        "    img = cv2.resize(img, (70, 100))\n",
        "  elif h == w:\n",
        "    img = cv2.resize(img, (70, 70))\n",
        "  else:\n",
        "    img = cv2.resize(img, (100, 70))\n",
        "\n",
        "  output = ''\n",
        "  for g1 in img:\n",
        "    output += \"\\n\"\n",
        "    for g2 in g1:\n",
        "      output += symbols[len(symbols) * g2 // 256 ] * 2\n",
        "  output += \"\\n\"\n",
        "\n",
        "  with open(f\"AA_{f[:typeNum]}.txt\", mode=\"w\") as f:\n",
        "    f.write(output)\n",
        "\n",
        "\n",
        "\n",
        "if len(errorFiles) == 0:\n",
        "  print('正常に終了しました')\n",
        "else:\n",
        "  print(f'読み込めないファイルが{len(errorFiles)}個ありました')\n",
        "  for k in range(len(errorFiles)):\n",
        "    print(files[k])"
      ],
      "metadata": {
        "id": "2mLSWTnciT4r"
      },
      "execution_count": null,
      "outputs": []
    }
  ]
}